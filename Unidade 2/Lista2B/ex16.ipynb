{
 "cells": [
  {
   "cell_type": "code",
   "execution_count": 6,
   "metadata": {},
   "outputs": [
    {
     "data": {
      "text/plain": [
       "H01L    205\n",
       "A61B    165\n",
       "A61K    141\n",
       "G01N     95\n",
       "A61F     89\n",
       "A61M     82\n",
       "C12N     71\n",
       "H01M     67\n",
       "B32B     65\n",
       "B01D     60\n",
       "Name: Subclass_labels, dtype: int64"
      ]
     },
     "execution_count": 6,
     "metadata": {},
     "output_type": "execute_result"
    }
   ],
   "source": [
    "import pandas as pd\n",
    "import json\n",
    "\n",
    "data = pd.read_json(\"2015_USPTOf.json\")\n",
    "data = data['Subclass_labels'].explode('Subclass_labels').value_counts().head(10)\n",
    "data"
   ]
  }
 ],
 "metadata": {
  "kernelspec": {
   "display_name": "Python 3.10.6 64-bit",
   "language": "python",
   "name": "python3"
  },
  "language_info": {
   "codemirror_mode": {
    "name": "ipython",
    "version": 3
   },
   "file_extension": ".py",
   "mimetype": "text/x-python",
   "name": "python",
   "nbconvert_exporter": "python",
   "pygments_lexer": "ipython3",
   "version": "3.10.6"
  },
  "orig_nbformat": 4,
  "vscode": {
   "interpreter": {
    "hash": "6b6e3305c6d5e98d3597993ad9b000902b7736611cc00ab4cbc2007df81cff6b"
   }
  }
 },
 "nbformat": 4,
 "nbformat_minor": 2
}
