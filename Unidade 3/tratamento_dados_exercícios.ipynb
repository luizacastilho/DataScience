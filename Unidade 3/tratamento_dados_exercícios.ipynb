{
 "cells": [
  {
   "cell_type": "code",
   "execution_count": 1,
   "metadata": {},
   "outputs": [],
   "source": [
    "import pandas as pd\n",
    "import numpy as np"
   ]
  },
  {
   "cell_type": "markdown",
   "metadata": {},
   "source": [
    "# 1) Crie um conjunto de dados com dois níveis hierárquicos de linhas e  colunas."
   ]
  },
  {
   "cell_type": "code",
   "execution_count": 2,
   "metadata": {},
   "outputs": [
    {
     "data": {
      "text/html": [
       "<div>\n",
       "<style scoped>\n",
       "    .dataframe tbody tr th:only-of-type {\n",
       "        vertical-align: middle;\n",
       "    }\n",
       "\n",
       "    .dataframe tbody tr th {\n",
       "        vertical-align: top;\n",
       "    }\n",
       "\n",
       "    .dataframe thead tr th {\n",
       "        text-align: left;\n",
       "    }\n",
       "</style>\n",
       "<table border=\"1\" class=\"dataframe\">\n",
       "  <thead>\n",
       "    <tr>\n",
       "      <th></th>\n",
       "      <th></th>\n",
       "      <th colspan=\"2\" halign=\"left\">Cachorro</th>\n",
       "      <th colspan=\"3\" halign=\"left\">Gato</th>\n",
       "    </tr>\n",
       "    <tr>\n",
       "      <th></th>\n",
       "      <th></th>\n",
       "      <th>Buldogue</th>\n",
       "      <th>Dobermann</th>\n",
       "      <th>Angora</th>\n",
       "      <th>Siames</th>\n",
       "      <th>SRD</th>\n",
       "    </tr>\n",
       "  </thead>\n",
       "  <tbody>\n",
       "    <tr>\n",
       "      <th rowspan=\"2\" valign=\"top\">a</th>\n",
       "      <th>1</th>\n",
       "      <td>0</td>\n",
       "      <td>1</td>\n",
       "      <td>2</td>\n",
       "      <td>3</td>\n",
       "      <td>4</td>\n",
       "    </tr>\n",
       "    <tr>\n",
       "      <th>2</th>\n",
       "      <td>5</td>\n",
       "      <td>6</td>\n",
       "      <td>7</td>\n",
       "      <td>8</td>\n",
       "      <td>9</td>\n",
       "    </tr>\n",
       "    <tr>\n",
       "      <th rowspan=\"2\" valign=\"top\">b</th>\n",
       "      <th>1</th>\n",
       "      <td>10</td>\n",
       "      <td>11</td>\n",
       "      <td>12</td>\n",
       "      <td>13</td>\n",
       "      <td>14</td>\n",
       "    </tr>\n",
       "    <tr>\n",
       "      <th>2</th>\n",
       "      <td>15</td>\n",
       "      <td>16</td>\n",
       "      <td>17</td>\n",
       "      <td>18</td>\n",
       "      <td>19</td>\n",
       "    </tr>\n",
       "  </tbody>\n",
       "</table>\n",
       "</div>"
      ],
      "text/plain": [
       "    Cachorro             Gato           \n",
       "    Buldogue Dobermann Angora Siames SRD\n",
       "a 1        0         1      2      3   4\n",
       "  2        5         6      7      8   9\n",
       "b 1       10        11     12     13  14\n",
       "  2       15        16     17     18  19"
      ]
     },
     "execution_count": 2,
     "metadata": {},
     "output_type": "execute_result"
    }
   ],
   "source": [
    "frame = pd.DataFrame(np.arange(20).reshape((4, 5)),\n",
    "    index=[['a', 'a', 'b', 'b'], [1, 2, 1, 2]],\n",
    "    columns=[['Cachorro', 'Cachorro', 'Gato', 'Gato', 'Gato'],\n",
    "    ['Buldogue', 'Dobermann', 'Angora', 'Siames', 'SRD']])\n",
    "frame"
   ]
  },
  {
   "cell_type": "markdown",
   "metadata": {},
   "source": [
    "# 2) A partir dos conjunto de dados realize operações de soma, média, mínimo e máximo considerando os níveis de hierarquia das linhas."
   ]
  },
  {
   "cell_type": "code",
   "execution_count": 3,
   "metadata": {},
   "outputs": [
    {
     "name": "stdout",
     "output_type": "stream",
     "text": [
      "Especie Cachorro             Gato           \n",
      "Raca    Buldogue Dobermann Angora Siames SRD\n",
      "Chave2                                      \n",
      "1             10        12     14     16  18\n",
      "2             20        22     24     26  28\n",
      "Especie Cachorro             Gato             \n",
      "Raca    Buldogue Dobermann Angora Siames   SRD\n",
      "Chave1                                        \n",
      "a            2.5       3.5    4.5    5.5   6.5\n",
      "b           12.5      13.5   14.5   15.5  16.5\n",
      "Especie Cachorro             Gato             \n",
      "Raca    Buldogue Dobermann Angora Siames   SRD\n",
      "Chave2                                        \n",
      "1            5.0       6.0    7.0    8.0   9.0\n",
      "2           10.0      11.0   12.0   13.0  14.0\n"
     ]
    },
    {
     "name": "stderr",
     "output_type": "stream",
     "text": [
      "C:\\Users\\luiza\\AppData\\Local\\Temp\\ipykernel_18428\\390277294.py:3: FutureWarning: Using the level keyword in DataFrame and Series aggregations is deprecated and will be removed in a future version. Use groupby instead. df.sum(level=1) should use df.groupby(level=1).sum().\n",
      "  print(frame.sum(level='Chave2'))\n",
      "C:\\Users\\luiza\\AppData\\Local\\Temp\\ipykernel_18428\\390277294.py:4: FutureWarning: Using the level keyword in DataFrame and Series aggregations is deprecated and will be removed in a future version. Use groupby instead. df.median(level=1) should use df.groupby(level=1).median().\n",
      "  print(frame.mean(level='Chave1'))\n",
      "C:\\Users\\luiza\\AppData\\Local\\Temp\\ipykernel_18428\\390277294.py:5: FutureWarning: Using the level keyword in DataFrame and Series aggregations is deprecated and will be removed in a future version. Use groupby instead. df.median(level=1) should use df.groupby(level=1).median().\n",
      "  print(frame.mean(level='Chave2'))\n"
     ]
    }
   ],
   "source": [
    "frame.index.names = ['Chave1', 'Chave2']\n",
    "frame.columns.names = ['Especie', 'Raca']\n",
    "print(frame.sum(level='Chave2'))\n",
    "print(frame.mean(level='Chave1'))\n",
    "print(frame.mean(level='Chave2'))"
   ]
  },
  {
   "cell_type": "markdown",
   "metadata": {},
   "source": [
    "# 3) Agora realize uma agregação (soma, por exemplo) considerando uma das colunas, ou seja, axis=1."
   ]
  },
  {
   "cell_type": "code",
   "execution_count": 4,
   "metadata": {},
   "outputs": [
    {
     "name": "stderr",
     "output_type": "stream",
     "text": [
      "C:\\Users\\luiza\\AppData\\Local\\Temp\\ipykernel_18428\\1255033712.py:1: FutureWarning: Using the level keyword in DataFrame and Series aggregations is deprecated and will be removed in a future version. Use groupby instead. df.sum(level=1) should use df.groupby(level=1).sum().\n",
      "  frame.sum(level='Especie', axis=1)\n"
     ]
    },
    {
     "data": {
      "text/html": [
       "<div>\n",
       "<style scoped>\n",
       "    .dataframe tbody tr th:only-of-type {\n",
       "        vertical-align: middle;\n",
       "    }\n",
       "\n",
       "    .dataframe tbody tr th {\n",
       "        vertical-align: top;\n",
       "    }\n",
       "\n",
       "    .dataframe thead th {\n",
       "        text-align: right;\n",
       "    }\n",
       "</style>\n",
       "<table border=\"1\" class=\"dataframe\">\n",
       "  <thead>\n",
       "    <tr style=\"text-align: right;\">\n",
       "      <th></th>\n",
       "      <th>Especie</th>\n",
       "      <th>Cachorro</th>\n",
       "      <th>Gato</th>\n",
       "    </tr>\n",
       "    <tr>\n",
       "      <th>Chave1</th>\n",
       "      <th>Chave2</th>\n",
       "      <th></th>\n",
       "      <th></th>\n",
       "    </tr>\n",
       "  </thead>\n",
       "  <tbody>\n",
       "    <tr>\n",
       "      <th rowspan=\"2\" valign=\"top\">a</th>\n",
       "      <th>1</th>\n",
       "      <td>1</td>\n",
       "      <td>9</td>\n",
       "    </tr>\n",
       "    <tr>\n",
       "      <th>2</th>\n",
       "      <td>11</td>\n",
       "      <td>24</td>\n",
       "    </tr>\n",
       "    <tr>\n",
       "      <th rowspan=\"2\" valign=\"top\">b</th>\n",
       "      <th>1</th>\n",
       "      <td>21</td>\n",
       "      <td>39</td>\n",
       "    </tr>\n",
       "    <tr>\n",
       "      <th>2</th>\n",
       "      <td>31</td>\n",
       "      <td>54</td>\n",
       "    </tr>\n",
       "  </tbody>\n",
       "</table>\n",
       "</div>"
      ],
      "text/plain": [
       "Especie        Cachorro  Gato\n",
       "Chave1 Chave2                \n",
       "a      1              1     9\n",
       "       2             11    24\n",
       "b      1             21    39\n",
       "       2             31    54"
      ]
     },
     "execution_count": 4,
     "metadata": {},
     "output_type": "execute_result"
    }
   ],
   "source": [
    "frame.sum(level='Especie', axis=1)"
   ]
  },
  {
   "cell_type": "markdown",
   "metadata": {},
   "source": [
    "# 4) Crie dois conjuntos de dados (muitos-para-um) e aplique uma junção interna e uma junção externa."
   ]
  },
  {
   "cell_type": "code",
   "execution_count": 5,
   "metadata": {},
   "outputs": [
    {
     "name": "stdout",
     "output_type": "stream",
     "text": [
      "      Chave  valor\n",
      "0  vermelho      0\n",
      "1     verde      1\n",
      "2      azul      2\n",
      "      Chave  valor2\n",
      "0     verde       0\n",
      "1     verde       1\n",
      "2      azul       2\n",
      "3  vermelho       3\n",
      "4      azul       4\n",
      "5  vermelho       5\n",
      "6     verde       6\n"
     ]
    },
    {
     "data": {
      "text/html": [
       "<div>\n",
       "<style scoped>\n",
       "    .dataframe tbody tr th:only-of-type {\n",
       "        vertical-align: middle;\n",
       "    }\n",
       "\n",
       "    .dataframe tbody tr th {\n",
       "        vertical-align: top;\n",
       "    }\n",
       "\n",
       "    .dataframe thead th {\n",
       "        text-align: right;\n",
       "    }\n",
       "</style>\n",
       "<table border=\"1\" class=\"dataframe\">\n",
       "  <thead>\n",
       "    <tr style=\"text-align: right;\">\n",
       "      <th></th>\n",
       "      <th>Chave</th>\n",
       "      <th>valor</th>\n",
       "      <th>valor2</th>\n",
       "    </tr>\n",
       "  </thead>\n",
       "  <tbody>\n",
       "    <tr>\n",
       "      <th>0</th>\n",
       "      <td>vermelho</td>\n",
       "      <td>0</td>\n",
       "      <td>3</td>\n",
       "    </tr>\n",
       "    <tr>\n",
       "      <th>1</th>\n",
       "      <td>vermelho</td>\n",
       "      <td>0</td>\n",
       "      <td>5</td>\n",
       "    </tr>\n",
       "    <tr>\n",
       "      <th>2</th>\n",
       "      <td>verde</td>\n",
       "      <td>1</td>\n",
       "      <td>0</td>\n",
       "    </tr>\n",
       "    <tr>\n",
       "      <th>3</th>\n",
       "      <td>verde</td>\n",
       "      <td>1</td>\n",
       "      <td>1</td>\n",
       "    </tr>\n",
       "    <tr>\n",
       "      <th>4</th>\n",
       "      <td>verde</td>\n",
       "      <td>1</td>\n",
       "      <td>6</td>\n",
       "    </tr>\n",
       "    <tr>\n",
       "      <th>5</th>\n",
       "      <td>azul</td>\n",
       "      <td>2</td>\n",
       "      <td>2</td>\n",
       "    </tr>\n",
       "    <tr>\n",
       "      <th>6</th>\n",
       "      <td>azul</td>\n",
       "      <td>2</td>\n",
       "      <td>4</td>\n",
       "    </tr>\n",
       "  </tbody>\n",
       "</table>\n",
       "</div>"
      ],
      "text/plain": [
       "      Chave  valor  valor2\n",
       "0  vermelho      0       3\n",
       "1  vermelho      0       5\n",
       "2     verde      1       0\n",
       "3     verde      1       1\n",
       "4     verde      1       6\n",
       "5      azul      2       2\n",
       "6      azul      2       4"
      ]
     },
     "execution_count": 5,
     "metadata": {},
     "output_type": "execute_result"
    }
   ],
   "source": [
    "df1 = pd.DataFrame({'Chave': ['vermelho', 'verde', 'azul'],\n",
    "                    'valor': range(3)})\n",
    "df2 = pd.DataFrame({'Chave': ['verde', 'verde', 'azul', 'vermelho', 'azul', 'vermelho', 'verde'],\n",
    "                    'valor2': range(7)})\n",
    "print(df1)\n",
    "print(df2)\n",
    "juncao = pd.merge(df1, df2, how='outer')\n",
    "juncao"
   ]
  },
  {
   "cell_type": "markdown",
   "metadata": {},
   "source": [
    "# 5) Localize linhas do conjunto de dados combinado considerando determinado critério de localização. "
   ]
  },
  {
   "cell_type": "code",
   "execution_count": 7,
   "metadata": {},
   "outputs": [
    {
     "data": {
      "text/html": [
       "<div>\n",
       "<style scoped>\n",
       "    .dataframe tbody tr th:only-of-type {\n",
       "        vertical-align: middle;\n",
       "    }\n",
       "\n",
       "    .dataframe tbody tr th {\n",
       "        vertical-align: top;\n",
       "    }\n",
       "\n",
       "    .dataframe thead th {\n",
       "        text-align: right;\n",
       "    }\n",
       "</style>\n",
       "<table border=\"1\" class=\"dataframe\">\n",
       "  <thead>\n",
       "    <tr style=\"text-align: right;\">\n",
       "      <th></th>\n",
       "      <th>valor2</th>\n",
       "    </tr>\n",
       "  </thead>\n",
       "  <tbody>\n",
       "    <tr>\n",
       "      <th>6</th>\n",
       "      <td>4</td>\n",
       "    </tr>\n",
       "  </tbody>\n",
       "</table>\n",
       "</div>"
      ],
      "text/plain": [
       "   valor2\n",
       "6       4"
      ]
     },
     "execution_count": 7,
     "metadata": {},
     "output_type": "execute_result"
    }
   ],
   "source": [
    "juncao.loc[(juncao['Chave']=='azul') & (juncao['valor2']==4.0), ['valor2']]"
   ]
  },
  {
   "cell_type": "markdown",
   "metadata": {},
   "source": [
    "# 6) Com base no conjunto de dados abaixo realize algumas consultas utilizando o método loc."
   ]
  },
  {
   "cell_type": "code",
   "execution_count": 12,
   "metadata": {},
   "outputs": [
    {
     "name": "stdout",
     "output_type": "stream",
     "text": [
      "         State\n",
      "Jane        NY\n",
      "Aaron       FL\n",
      "Penelope    AL\n",
      "John        TX\n",
      "             Food  Score\n",
      "Jane        Steak    4.6\n",
      "Nick         Lamb    8.3\n",
      "Aaron       Mango    9.0\n",
      "Dean       Cheese    1.8\n",
      "Christina   Melon    9.5\n"
     ]
    }
   ],
   "source": [
    "df = pd.DataFrame({'Age': [30, 20, 22, 40, 32, 28, 39],\n",
    "              'Color': ['Blue', 'Green', 'Red', 'White', 'Gray', 'Black','Red'],\n",
    "              'Food': ['Steak', 'Lamb', 'Mango', 'Apple', 'Cheese', 'Melon', 'Beans'],\n",
    "              'Height': [165, 170, 120, 80, 180, 172, 150],\n",
    "              'Score': [4.6, 8.3, 9.0, 3.3, 1.8, 9.5, 2.2],\n",
    "              'State': ['NY', 'TX', 'FL', 'AL', 'AK', 'TX', 'TX']\n",
    "              },\n",
    "              index=['Jane', 'Nick', 'Aaron', 'Penelope', 'Dean',\n",
    "                     'Christina', 'John'])\n",
    "df\n",
    "\n",
    "print(df.loc[df['Height'] < 170, ['State']])\n",
    "print(df.loc[df['Age'] < 35, ['Food', 'Score']])"
   ]
  },
  {
   "cell_type": "markdown",
   "metadata": {},
   "source": [
    "# 7) Crie três conjuntos de dados para representar uma relação N:M (Médico, Paciente e Consulta). A partir dos conjuntos realize a integração (merge)."
   ]
  },
  {
   "cell_type": "code",
   "execution_count": 18,
   "metadata": {},
   "outputs": [
    {
     "data": {
      "text/html": [
       "<div>\n",
       "<style scoped>\n",
       "    .dataframe tbody tr th:only-of-type {\n",
       "        vertical-align: middle;\n",
       "    }\n",
       "\n",
       "    .dataframe tbody tr th {\n",
       "        vertical-align: top;\n",
       "    }\n",
       "\n",
       "    .dataframe thead th {\n",
       "        text-align: right;\n",
       "    }\n",
       "</style>\n",
       "<table border=\"1\" class=\"dataframe\">\n",
       "  <thead>\n",
       "    <tr style=\"text-align: right;\">\n",
       "      <th></th>\n",
       "      <th>idM</th>\n",
       "      <th>NomeM</th>\n",
       "      <th>idP</th>\n",
       "      <th>NomeP</th>\n",
       "      <th>Data</th>\n",
       "    </tr>\n",
       "  </thead>\n",
       "  <tbody>\n",
       "    <tr>\n",
       "      <th>0</th>\n",
       "      <td>1</td>\n",
       "      <td>Joao</td>\n",
       "      <td>a</td>\n",
       "      <td>Teresa</td>\n",
       "      <td>05/10/2022</td>\n",
       "    </tr>\n",
       "    <tr>\n",
       "      <th>1</th>\n",
       "      <td>2</td>\n",
       "      <td>Ana</td>\n",
       "      <td>a</td>\n",
       "      <td>Teresa</td>\n",
       "      <td>04/10/2022</td>\n",
       "    </tr>\n",
       "    <tr>\n",
       "      <th>2</th>\n",
       "      <td>1</td>\n",
       "      <td>Joao</td>\n",
       "      <td>c</td>\n",
       "      <td>Mario</td>\n",
       "      <td>04/10/2022</td>\n",
       "    </tr>\n",
       "    <tr>\n",
       "      <th>3</th>\n",
       "      <td>2</td>\n",
       "      <td>Ana</td>\n",
       "      <td>b</td>\n",
       "      <td>Maria</td>\n",
       "      <td>05/10/2022</td>\n",
       "    </tr>\n",
       "    <tr>\n",
       "      <th>4</th>\n",
       "      <td>2</td>\n",
       "      <td>Ana</td>\n",
       "      <td>b</td>\n",
       "      <td>Maria</td>\n",
       "      <td>03/10/2022</td>\n",
       "    </tr>\n",
       "  </tbody>\n",
       "</table>\n",
       "</div>"
      ],
      "text/plain": [
       "  idM NomeM idP   NomeP        Data\n",
       "0   1  Joao   a  Teresa  05/10/2022\n",
       "1   2   Ana   a  Teresa  04/10/2022\n",
       "2   1  Joao   c   Mario  04/10/2022\n",
       "3   2   Ana   b   Maria  05/10/2022\n",
       "4   2   Ana   b   Maria  03/10/2022"
      ]
     },
     "execution_count": 18,
     "metadata": {},
     "output_type": "execute_result"
    }
   ],
   "source": [
    "medico = pd.DataFrame({'idM': ['1','2'],\n",
    "                    'NomeM': ['Joao','Ana']})\n",
    "medico\n",
    "\n",
    "paciente = pd.DataFrame({'idP': ['a','b','c'],\n",
    "                    'NomeP': ['Teresa','Maria','Mario']})\n",
    "paciente\n",
    "\n",
    "consulta = pd.DataFrame({'idM': ['1','2','1','2','2'],\n",
    "                    'idP': ['a','b','c','a','b'],\n",
    "                    'Data':['05/10/2022','05/10/2022','04/10/2022','04/10/2022','03/10/2022']})\n",
    "consulta\n",
    "\n",
    "res = pd.merge(medico, consulta, on='idM').merge(paciente, on='idP')\n",
    "res[['idM','NomeM','idP','NomeP','Data']]"
   ]
  }
 ],
 "metadata": {
  "kernelspec": {
   "display_name": "Python 3.10.6 64-bit",
   "language": "python",
   "name": "python3"
  },
  "language_info": {
   "codemirror_mode": {
    "name": "ipython",
    "version": 3
   },
   "file_extension": ".py",
   "mimetype": "text/x-python",
   "name": "python",
   "nbconvert_exporter": "python",
   "pygments_lexer": "ipython3",
   "version": "3.10.6"
  },
  "vscode": {
   "interpreter": {
    "hash": "6b6e3305c6d5e98d3597993ad9b000902b7736611cc00ab4cbc2007df81cff6b"
   }
  }
 },
 "nbformat": 4,
 "nbformat_minor": 2
}
