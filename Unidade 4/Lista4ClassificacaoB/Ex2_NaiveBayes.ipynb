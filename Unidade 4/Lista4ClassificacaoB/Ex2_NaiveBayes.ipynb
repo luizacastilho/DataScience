{
 "cells": [
  {
   "cell_type": "code",
   "execution_count": 8,
   "metadata": {},
   "outputs": [],
   "source": [
    "import numpy as np \n",
    "import pandas as pd\n",
    "import matplotlib.pyplot as plt\n",
    "from sklearn import preprocessing"
   ]
  },
  {
   "cell_type": "code",
   "execution_count": 9,
   "metadata": {},
   "outputs": [],
   "source": [
    "col_names = ['tempo','temperatura','umidade','vento','label']\n",
    "# carrega o dataset\n",
    "df = pd.read_csv(\"jogar_simbolico_new.csv\", header=None, names=col_names)"
   ]
  },
  {
   "cell_type": "code",
   "execution_count": 10,
   "metadata": {},
   "outputs": [
    {
     "name": "stdout",
     "output_type": "stream",
     "text": [
      "tempo: [2 2 0 1 1 1 0 2 2 1 2 0 0 1]\n",
      "Temperatura: [1 1 1 2 0 0 0 2 0 2 2 2 1 2]\n",
      "umidade: [0 0 0 0 1 1 1 0 1 1 1 0 1 0]\n",
      "vento: [1 0 1 1 1 0 0 1 1 1 0 0 1 0]\n"
     ]
    }
   ],
   "source": [
    "# criando labelEncoder\n",
    "le = preprocessing.LabelEncoder()\n",
    "\n",
    "# Convertendo os rótulos em números.\n",
    "tempo_encoded=le.fit_transform(df.tempo)\n",
    "temperatura_encoded=le.fit_transform(df.temperatura)\n",
    "umidade_encoded=le.fit_transform(df.umidade)\n",
    "vento_encoded=le.fit_transform(df.vento)\n",
    "\n",
    "print(\"tempo:\",tempo_encoded)\n",
    "print(\"Temperatura:\",temperatura_encoded)\n",
    "print(\"umidade:\",umidade_encoded)\n",
    "print(\"vento:\",vento_encoded)"
   ]
  },
  {
   "cell_type": "code",
   "execution_count": 11,
   "metadata": {},
   "outputs": [
    {
     "name": "stdout",
     "output_type": "stream",
     "text": [
      "label: [0 0 1 1 1 0 1 0 1 1 1 1 1 0]\n"
     ]
    }
   ],
   "source": [
    "# Convertendo rótulos em números\n",
    "label=le.fit_transform(df.label)\n",
    "print(\"label:\",label)"
   ]
  },
  {
   "cell_type": "code",
   "execution_count": 12,
   "metadata": {},
   "outputs": [
    {
     "name": "stdout",
     "output_type": "stream",
     "text": [
      "[(2, 1, 0, 1), (2, 1, 0, 0), (0, 1, 0, 1), (1, 2, 0, 1), (1, 0, 1, 1), (1, 0, 1, 0), (0, 0, 1, 0), (2, 2, 0, 1), (2, 0, 1, 1), (1, 2, 1, 1), (2, 2, 1, 0), (0, 2, 0, 0), (0, 1, 1, 1), (1, 2, 0, 0)]\n"
     ]
    }
   ],
   "source": [
    "# Combinando weather and temp em uma simples lista de tuplas \n",
    "features=list(zip(tempo_encoded, temperatura_encoded, umidade_encoded, vento_encoded))\n",
    "print(features)"
   ]
  },
  {
   "cell_type": "code",
   "execution_count": 13,
   "metadata": {},
   "outputs": [
    {
     "name": "stdout",
     "output_type": "stream",
     "text": [
      "Valor da predição: [1]\n",
      "Valor da predição: [0]\n"
     ]
    }
   ],
   "source": [
    "# Importando o modelo Naive Bayes\n",
    "from sklearn.naive_bayes import GaussianNB\n",
    "\n",
    "# Cria o classificador Naive Bayes\n",
    "model = GaussianNB()\n",
    "\n",
    "# Treina o modelo usando o conjunto de treinamento\n",
    "model.fit(features,label)\n",
    "\n",
    "# Realizanda a predição\n",
    "predicted= model.predict([[0,2,0,0]]) # 0:Overcast, 2:Mild, 0:High, 0:Strong\n",
    "print(\"Valor da predição:\", predicted)\n",
    "\n",
    "predicted= model.predict([[2,1,0,0]]) # 2:Sunny, 1:Hot, 0:High, 0:Strong\n",
    "print(\"Valor da predição:\", predicted)"
   ]
  },
  {
   "cell_type": "code",
   "execution_count": 19,
   "metadata": {},
   "outputs": [
    {
     "name": "stdout",
     "output_type": "stream",
     "text": [
      "[2, 1, 0, 0]\n"
     ]
    }
   ],
   "source": [
    "lst = []\n",
    "# iterating till the range\n",
    "for i in range(0, 4):\n",
    "    ele = int(input())\n",
    "    lst.append(ele) # adding the elemento\n",
    "print(lst)"
   ]
  },
  {
   "cell_type": "code",
   "execution_count": 20,
   "metadata": {},
   "outputs": [
    {
     "name": "stdout",
     "output_type": "stream",
     "text": [
      "Valor da predição: [0]\n"
     ]
    }
   ],
   "source": [
    "predicted= model.predict([lst])\n",
    "print(\"Valor da predição:\", predicted)"
   ]
  }
 ],
 "metadata": {
  "kernelspec": {
   "display_name": "Python 3.10.6 64-bit",
   "language": "python",
   "name": "python3"
  },
  "language_info": {
   "codemirror_mode": {
    "name": "ipython",
    "version": 3
   },
   "file_extension": ".py",
   "mimetype": "text/x-python",
   "name": "python",
   "nbconvert_exporter": "python",
   "pygments_lexer": "ipython3",
   "version": "3.10.6"
  },
  "orig_nbformat": 4,
  "vscode": {
   "interpreter": {
    "hash": "6b6e3305c6d5e98d3597993ad9b000902b7736611cc00ab4cbc2007df81cff6b"
   }
  }
 },
 "nbformat": 4,
 "nbformat_minor": 2
}
