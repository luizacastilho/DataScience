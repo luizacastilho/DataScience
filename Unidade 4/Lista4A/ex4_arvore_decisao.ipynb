{
 "cells": [
  {
   "cell_type": "code",
   "execution_count": 1,
   "metadata": {},
   "outputs": [],
   "source": [
    "# Carrega as bibliotecas\n",
    "import pandas as pd\n",
    "from sklearn.tree import DecisionTreeClassifier # importa o Decision Tree Classifier\n",
    "from sklearn.model_selection import train_test_split # importa o método train_test_split \n",
    "from sklearn import metrics #importa as métricas de avaliação de modelos do scikit-learn"
   ]
  },
  {
   "cell_type": "code",
   "execution_count": 2,
   "metadata": {},
   "outputs": [],
   "source": [
    "# Define as colunas\n",
    "col_names = ['Serial-No.','GRE-Score','TOEFL-Score','University Rating','SOP','LOR' ,'CGPA','Research','Chance-of-Admit' ]\n",
    "# Carrega o dataset\n",
    "pima = pd.read_csv(\"adm_data.csv\", header=None, names=col_names)\n",
    "#label 0=não 1=sim\n",
    "\n"
   ]
  },
  {
   "cell_type": "code",
   "execution_count": 3,
   "metadata": {},
   "outputs": [
    {
     "data": {
      "text/html": [
       "<div>\n",
       "<style scoped>\n",
       "    .dataframe tbody tr th:only-of-type {\n",
       "        vertical-align: middle;\n",
       "    }\n",
       "\n",
       "    .dataframe tbody tr th {\n",
       "        vertical-align: top;\n",
       "    }\n",
       "\n",
       "    .dataframe thead th {\n",
       "        text-align: right;\n",
       "    }\n",
       "</style>\n",
       "<table border=\"1\" class=\"dataframe\">\n",
       "  <thead>\n",
       "    <tr style=\"text-align: right;\">\n",
       "      <th></th>\n",
       "      <th>Serial-No.</th>\n",
       "      <th>GRE-Score</th>\n",
       "      <th>TOEFL-Score</th>\n",
       "      <th>University Rating</th>\n",
       "      <th>SOP</th>\n",
       "      <th>LOR</th>\n",
       "      <th>CGPA</th>\n",
       "      <th>Research</th>\n",
       "      <th>Chance-of-Admit</th>\n",
       "    </tr>\n",
       "  </thead>\n",
       "  <tbody>\n",
       "    <tr>\n",
       "      <th>0</th>\n",
       "      <td>1</td>\n",
       "      <td>337</td>\n",
       "      <td>118</td>\n",
       "      <td>4</td>\n",
       "      <td>4.5</td>\n",
       "      <td>4.5</td>\n",
       "      <td>9.65</td>\n",
       "      <td>1</td>\n",
       "      <td>0.92</td>\n",
       "    </tr>\n",
       "    <tr>\n",
       "      <th>1</th>\n",
       "      <td>2</td>\n",
       "      <td>324</td>\n",
       "      <td>107</td>\n",
       "      <td>4</td>\n",
       "      <td>4.0</td>\n",
       "      <td>4.5</td>\n",
       "      <td>8.87</td>\n",
       "      <td>1</td>\n",
       "      <td>0.76</td>\n",
       "    </tr>\n",
       "    <tr>\n",
       "      <th>2</th>\n",
       "      <td>3</td>\n",
       "      <td>316</td>\n",
       "      <td>104</td>\n",
       "      <td>3</td>\n",
       "      <td>3.0</td>\n",
       "      <td>3.5</td>\n",
       "      <td>8.00</td>\n",
       "      <td>1</td>\n",
       "      <td>0.72</td>\n",
       "    </tr>\n",
       "    <tr>\n",
       "      <th>3</th>\n",
       "      <td>4</td>\n",
       "      <td>322</td>\n",
       "      <td>110</td>\n",
       "      <td>3</td>\n",
       "      <td>3.5</td>\n",
       "      <td>2.5</td>\n",
       "      <td>8.67</td>\n",
       "      <td>1</td>\n",
       "      <td>0.80</td>\n",
       "    </tr>\n",
       "    <tr>\n",
       "      <th>4</th>\n",
       "      <td>5</td>\n",
       "      <td>314</td>\n",
       "      <td>103</td>\n",
       "      <td>2</td>\n",
       "      <td>2.0</td>\n",
       "      <td>3.0</td>\n",
       "      <td>8.21</td>\n",
       "      <td>0</td>\n",
       "      <td>0.65</td>\n",
       "    </tr>\n",
       "  </tbody>\n",
       "</table>\n",
       "</div>"
      ],
      "text/plain": [
       "   Serial-No.  GRE-Score  TOEFL-Score  University Rating  SOP  LOR  CGPA  \\\n",
       "0           1        337          118                  4  4.5  4.5  9.65   \n",
       "1           2        324          107                  4  4.0  4.5  8.87   \n",
       "2           3        316          104                  3  3.0  3.5  8.00   \n",
       "3           4        322          110                  3  3.5  2.5  8.67   \n",
       "4           5        314          103                  2  2.0  3.0  8.21   \n",
       "\n",
       "   Research  Chance-of-Admit  \n",
       "0         1             0.92  \n",
       "1         1             0.76  \n",
       "2         1             0.72  \n",
       "3         1             0.80  \n",
       "4         0             0.65  "
      ]
     },
     "execution_count": 3,
     "metadata": {},
     "output_type": "execute_result"
    }
   ],
   "source": [
    "pima.head()"
   ]
  },
  {
   "cell_type": "code",
   "execution_count": 7,
   "metadata": {},
   "outputs": [
    {
     "name": "stdout",
     "output_type": "stream",
     "text": [
      "     Serial-No.  GRE-Score  TOEFL-Score  University Rating  Research\n",
      "0             1        337          118                  4         1\n",
      "1             2        324          107                  4         1\n",
      "2             3        316          104                  3         1\n",
      "3             4        322          110                  3         1\n",
      "4             5        314          103                  2         0\n",
      "..          ...        ...          ...                ...       ...\n",
      "395         396        324          110                  3         1\n",
      "396         397        325          107                  3         1\n",
      "397         398        330          116                  4         1\n",
      "398         399        312          103                  3         0\n",
      "399         400        333          117                  4         1\n",
      "\n",
      "[400 rows x 5 columns]\n",
      "     Chance-of-Admit\n",
      "0               0.92\n",
      "1               0.76\n",
      "2               0.72\n",
      "3               0.80\n",
      "4               0.65\n",
      "..               ...\n",
      "395             0.82\n",
      "396             0.84\n",
      "397             0.91\n",
      "398             0.67\n",
      "399             0.95\n",
      "\n",
      "[400 rows x 1 columns]\n"
     ]
    }
   ],
   "source": [
    "#Separa o conjunto de dados em atributos previsores e atributo alvo/meta\n",
    "feature_cols = ['Serial-No.','GRE-Score','TOEFL-Score','University Rating','Research']\n",
    "X = pima[feature_cols] # Características (atributos previsores)\n",
    "coluna = ['Chance-of-Admit']\n",
    "y = pima[coluna] # Atributo/variável alvo\n",
    "print(X)\n",
    "print(y)"
   ]
  },
  {
   "cell_type": "code",
   "execution_count": 8,
   "metadata": {},
   "outputs": [
    {
     "name": "stdout",
     "output_type": "stream",
     "text": [
      "     Serial-No.  GRE-Score  TOEFL-Score  University Rating  Research\n",
      "93           94        301           97                  2         1\n",
      "23           24        334          119                  5         1\n",
      "299         300        305          112                  3         0\n",
      "13           14        307          109                  3         1\n",
      "90           91        318          106                  2         1\n",
      "..          ...        ...          ...                ...       ...\n",
      "255         256        307          110                  4         0\n",
      "72           73        321          111                  5         1\n",
      "396         397        325          107                  3         1\n",
      "235         236        326          111                  5         1\n",
      "37           38        300          105                  1         0\n",
      "\n",
      "[320 rows x 5 columns]\n",
      "     Serial-No.  GRE-Score  TOEFL-Score  University Rating  Research\n",
      "398         399        312          103                  3         0\n",
      "125         126        300          100                  3         1\n",
      "328         329        324          112                  4         1\n",
      "339         340        324          107                  5         1\n",
      "172         173        322          110                  4         1\n",
      "..          ...        ...          ...                ...       ...\n",
      "347         348        299           94                  1         0\n",
      "41           42        316          105                  2         1\n",
      "180         181        300          104                  3         0\n",
      "132         133        309          105                  5         0\n",
      "224         225        305          105                  2         0\n",
      "\n",
      "[80 rows x 5 columns]\n",
      "     Chance-of-Admit\n",
      "93              0.44\n",
      "23              0.95\n",
      "299             0.71\n",
      "13              0.62\n",
      "90              0.64\n",
      "..               ...\n",
      "255             0.79\n",
      "72              0.93\n",
      "396             0.84\n",
      "235             0.88\n",
      "37              0.58\n",
      "\n",
      "[320 rows x 1 columns]\n",
      "     Chance-of-Admit\n",
      "398             0.67\n",
      "125             0.64\n",
      "328             0.80\n",
      "339             0.81\n",
      "172             0.86\n",
      "..               ...\n",
      "347             0.42\n",
      "41              0.49\n",
      "180             0.71\n",
      "132             0.71\n",
      "224             0.67\n",
      "\n",
      "[80 rows x 1 columns]\n"
     ]
    }
   ],
   "source": [
    "# Separa o conjunto de dados em treinamento e teste\n",
    "X_train, X_test, y_train, y_test = train_test_split(X, y, test_size=0.2, random_state=1) # 80% treinamento e 20% teste\n",
    "print(X_train)\n",
    "print(X_test)\n",
    "print(y_train)\n",
    "print(y_test)"
   ]
  },
  {
   "cell_type": "code",
   "execution_count": 11,
   "metadata": {},
   "outputs": [
    {
     "name": "stdout",
     "output_type": "stream",
     "text": [
      "[ 6 56 32 23 25  9 34 57 32 39 14 34 41 42 15 23 31 40 48 50 53 18 34  6\n",
      " 35 45 45 25 51 35 32  9 51 24 36  2 33 41 45 43 10 25 23 36 34  4 55 39\n",
      " 31 56 32 25 33 50 31 29 25 38 18  0 22 28 22 41 30 17 23  7 50 27 38 53\n",
      " 30 49 43 36 55 14 54 25 29 32 17 42 31 15 18 34 48 31  9 45 41 54 47 44\n",
      " 23 32 55 22 46 42 43  3 41 23 53 22 14 52 16 46 38 54 11 26  8 32 55 12\n",
      " 47 40 18  5 36  8 35 25 32 52 19 43 34 39 40 51 34 49 34 17 26 45 47 30\n",
      " 22 37 23 32 39 25 23 49 24 25 36 50 33 43 35 35  8 31 25 42 39 33 33 57\n",
      " 32 58 42 54 33 18 50 40 17 56 52 20 55 35 46 25 26 22 17 32 47 20  9 27\n",
      " 29  9 31 51 38 31 29 30 18 37 57 19 10  1 55 45 57 58 47 24 14 38 10 40\n",
      " 21  8 40 25 42 25 24 33 34 25 31 50 40  2 33 39 31 54 51 36 55 30 26 51\n",
      " 35 37  8 27 20 58 34 33 43 37 26 53 40 38 28 46 39 32 28 35 40 42 24 55\n",
      " 34 14 16 47 29 33 30 37 35 48 29 41 13 39 11 26 55 27 40 52 36 29 16 37\n",
      " 28 55 19 41 29 51 33 25 26 54 29 37 31 32 29 46 50 33 41 47 57 53 41 44\n",
      " 40 58 38 40 54 45 49 19]\n"
     ]
    },
    {
     "name": "stderr",
     "output_type": "stream",
     "text": [
      "c:\\Users\\luiza\\AppData\\Local\\Programs\\Python\\Python310\\lib\\site-packages\\sklearn\\preprocessing\\_label.py:115: DataConversionWarning: A column-vector y was passed when a 1d array was expected. Please change the shape of y to (n_samples, ), for example using ravel().\n",
      "  y = column_or_1d(y, warn=True)\n"
     ]
    }
   ],
   "source": [
    "from sklearn import preprocessing\n",
    "from sklearn import utils\n",
    "\n",
    "#convert y values to categorical values\n",
    "lab = preprocessing.LabelEncoder()\n",
    "y_transformed = lab.fit_transform(y_train)\n",
    "\n",
    "#view transformed values\n",
    "print(y_transformed)"
   ]
  },
  {
   "cell_type": "code",
   "execution_count": 12,
   "metadata": {},
   "outputs": [],
   "source": [
    "# Cria o objeto classificador para a árvore de decisão\n",
    "clf = DecisionTreeClassifier()\n",
    "\n",
    "# Treina o objeto classificador\n",
    "clf = clf.fit(X_train,y_transformed)\n",
    "\n",
    "# Realiza a predição a partir do conjunto de teste\n",
    "y_pred = clf.predict(X_test)"
   ]
  },
  {
   "cell_type": "code",
   "execution_count": 21,
   "metadata": {},
   "outputs": [
    {
     "name": "stdout",
     "output_type": "stream",
     "text": [
      "[8]\n",
      "[8]\n"
     ]
    },
    {
     "name": "stderr",
     "output_type": "stream",
     "text": [
      "c:\\Users\\luiza\\AppData\\Local\\Programs\\Python\\Python310\\lib\\site-packages\\sklearn\\base.py:450: UserWarning: X does not have valid feature names, but DecisionTreeClassifier was fitted with feature names\n",
      "  warnings.warn(\n",
      "c:\\Users\\luiza\\AppData\\Local\\Programs\\Python\\Python310\\lib\\site-packages\\sklearn\\base.py:450: UserWarning: X does not have valid feature names, but DecisionTreeClassifier was fitted with feature names\n",
      "  warnings.warn(\n"
     ]
    }
   ],
   "source": [
    "# Utiliza o pickle para salvar o modelo treinado para uso posterior em alguma aplicação\n",
    "import pickle\n",
    "filename = 'finalized_model.sav'\n",
    "pickle.dump(clf, open(filename, 'wb'))\n",
    "\n",
    "loaded_model = pickle.load(open(filename, 'rb'))\n",
    "#result = loaded_model.score(X_test, y_test)\n",
    "#print(result)\n",
    "\n",
    "y_pred = loaded_model.predict(X_test)\n",
    "#print(\"Accuracy:\",metrics.accuracy_score(y_test, y_pred))\n",
    "#print(\"Precision:\",metrics.precision_score(y_test, y_pred))\n",
    "#print(\"Recall:\",metrics.recall_score(y_test, y_pred))\n",
    "#print(\"F1 Measure:\",metrics.f1_score(y_test, y_pred))\n",
    "\n",
    "print(loaded_model.predict([[6, 0, 33.6, 50, 2]]))\n",
    "print(loaded_model.predict([[1, 0, 26.6, 31, 3]]))\n"
   ]
  },
  {
   "cell_type": "markdown",
   "metadata": {},
   "source": [
    "pip install graphviz\n",
    "\n",
    "pip install pydotplus"
   ]
  }
 ],
 "metadata": {
  "kernelspec": {
   "display_name": "Python 3.10.6 64-bit",
   "language": "python",
   "name": "python3"
  },
  "language_info": {
   "codemirror_mode": {
    "name": "ipython",
    "version": 3
   },
   "file_extension": ".py",
   "mimetype": "text/x-python",
   "name": "python",
   "nbconvert_exporter": "python",
   "pygments_lexer": "ipython3",
   "version": "3.10.6"
  },
  "vscode": {
   "interpreter": {
    "hash": "6b6e3305c6d5e98d3597993ad9b000902b7736611cc00ab4cbc2007df81cff6b"
   }
  }
 },
 "nbformat": 4,
 "nbformat_minor": 2
}
