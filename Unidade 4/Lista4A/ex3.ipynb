{
 "cells": [
  {
   "cell_type": "markdown",
   "metadata": {},
   "source": [
    "DEFINIÇÕES\n",
    "\n",
    "Precision: a precisão de um modelo é a proporção de exemplos positivos que foram corretamente classificados\n",
    "Recall: também conhecida como cobertura, é definida como a proporção classificada corretamente como exemplos positivos.\n",
    "Accuracy: essa medida denota a proporção de predições corretas\n",
    "F-measure: essa medida combina Precision e Recall, inserindo um parâmetro B para indicar a importância relativa."
   ]
  },
  {
   "cell_type": "markdown",
   "metadata": {},
   "source": [
    "O modelo teve um precision e recall de 0,963 que é um número satisfatório, sendo um pouco melhor para a classificação de democratas que republicanos.\n",
    "Quanto a F-measure, também podemos dizer que foi satisfatória."
   ]
  },
  {
   "cell_type": "markdown",
   "metadata": {},
   "source": []
  }
 ],
 "metadata": {
  "kernelspec": {
   "display_name": "Python 3.10.6 64-bit",
   "language": "python",
   "name": "python3"
  },
  "language_info": {
   "name": "python",
   "version": "3.10.6"
  },
  "orig_nbformat": 4,
  "vscode": {
   "interpreter": {
    "hash": "6b6e3305c6d5e98d3597993ad9b000902b7736611cc00ab4cbc2007df81cff6b"
   }
  }
 },
 "nbformat": 4,
 "nbformat_minor": 2
}
